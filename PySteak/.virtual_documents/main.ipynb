"""Analyzing Menu and Sales Data from PySteak Restaurant
Exercise to practice reading in data from .csv and manipulating data without using Pandas
"""

# @TODO: Import libraries
import csv
from pathlib import Path

# Set file paths for menu_data.csv and sales_data.csv
menu_filepath = Path('Resources/menu_data.csv')
sales_filepath = Path('Resources/sales_data.csv')

# Initialize list objects to hold our menu and sales data
menu = []
sales = []

## Read in the menu data into the menu list

#Variable to set menu row number for iterating through the data
mrow_num = 0

with open(menu_filepath, 'r') as mfile:
    m_csv_reader = csv.reader(mfile, delimiter=',')
    #Read in header
    m_header = next(m_csv_reader)
    mrow_num += 1

    for row in m_csv_reader:
        menu.append(row)



## Read in the sales data into the sales list

#Variable to set our sales row number for iterating through the data
srow_num = 0

with open(sales_filepath, 'r') as sfile:
    s_csv_reader = csv.reader(sfile, delimiter=',')
    #Read in header
    s_header = next(s_csv_reader)
    srow_num += 1

    for row in s_csv_reader:
        sales.append(row)


# Initialize dict object to hold our key-value pairs of items and metrics
report = {}

# Initialize a row counter variable
row_count = 0

# Loop over every row in the sales list object
for row in sales:    

    # Line_Item_ID,Date,Credit_Card_Number,Quantity,Menu_Item
    # Initialize sales data variables
    quantity = int(row[3])
    menu_item = row[4]
    
    # If the item value not in the report, add it as a new entry with initialized metrics
    # Naming convention allows the keys to be ordered in logical fashion, count, revenue, cost, profit
    if menu_item not in report.keys():
        report[menu_item] = {
                "01-count": 0,
                "02-revenue": 0,
                "03-cogs": 0,
                "04-profit": 0,
            }



    # For every row in our sales data, loop over the menu records to determine a match
    for row in menu:

        # Item,Category,Description,Price,Cost
        # Initialize menu data variables
        item = row[0]
        price = float(row[3])
        cost = int(row[4])

        # Calculate profit of each item in the menu data
        profit = price - cost

        # If the item value in our sales data is equal to the any of the items in the menu, then begin tracking metrics for that item
        if menu_item == item:
            # Print out matching menu data
            #print(f"Item is: {item}.  Price is {price}. Cost is {cost}")

            # Cumulatively add up the metrics for each item key
            report[menu_item]["01-count"] += quantity
            report[menu_item]["02-revenue"] += price * quantity
            report[menu_item]["03-cogs"] += cost * quantity
            report[menu_item]["04-profit"] += profit * quantity

        # Else, the sales item does not equal any of the items in the menu data, therefore no match
        #else:
            #print(f"{sales_item} does not equal {item}. NO MATCH!")

    # Increment the row counter by 1
    row_count += 1

# Print total number of records in sales data
print(f"The total number of records is {row_count}")


# Write out report to a text file (won't appear on the command line output)
import json
output_file = Path('Resources/report.txt')

with open(output_file, 'w') as file:
    file.write(json.dumps(report))



